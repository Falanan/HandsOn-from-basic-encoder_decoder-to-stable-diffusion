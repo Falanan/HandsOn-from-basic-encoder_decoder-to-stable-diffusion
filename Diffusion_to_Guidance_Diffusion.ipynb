{
 "cells": [
  {
   "cell_type": "code",
   "execution_count": null,
   "metadata": {},
   "outputs": [],
   "source": [
    "import numpy as np\n",
    "import torch\n",
    "import torch.nn.functional as F\n",
    "import torchvision\n",
    "from datasets import load_dataset\n",
    "from diffusers import DDIMScheduler, DDPMPipeline\n",
    "from matplotlib import pyplot as plt\n",
    "from PIL import Image\n",
    "from torchvision import transforms\n",
    "from tqdm.auto import tqdm\n",
    "\n",
    "device = \"mps\" if torch.backends.mps.is_available() else \"cuda\" if torch.cuda.is_available() else \"cpu\"\n",
    "print(f\"Using device: {device}\")"
   ]
  },
  {
   "cell_type": "markdown",
   "metadata": {},
   "source": [
    "## Learning is very difficult, but cats save the day."
   ]
  },
  {
   "cell_type": "code",
   "execution_count": null,
   "metadata": {},
   "outputs": [],
   "source": [
    "image_pipe = DDPMPipeline.from_pretrained(\"google/ddpm-cat-256\")\n",
    "image_pipe.to(device)"
   ]
  },
  {
   "cell_type": "markdown",
   "metadata": {},
   "source": [
    "## Lets generate 4 cat images"
   ]
  },
  {
   "cell_type": "code",
   "execution_count": null,
   "metadata": {},
   "outputs": [],
   "source": [
    "cat_image_list = []\n",
    "for i in range(0, 4):\n",
    "    images = image_pipe().images\n",
    "    cat_image_list.append(images[0])\n",
    "\n",
    "n_images = len(cat_image_list)\n",
    "\n",
    "# Create a figure with 1 row and `n_images` columns\n",
    "fig, axs = plt.subplots(1, n_images, figsize=(20, 5))  # Width 20, Height 5\n",
    "\n",
    "# Loop through the images and plot them in one row\n",
    "for idx, image in enumerate(cat_image_list):\n",
    "    axs[idx].imshow(image)  # Display the image\n",
    "    axs[idx].axis('off')    # Remove axis for cleaner display\n",
    "\n",
    "# Display the plots\n",
    "plt.tight_layout()\n",
    "plt.show()"
   ]
  },
  {
   "cell_type": "markdown",
   "metadata": {},
   "source": [
    "1000 steps realy takes very long time. Let's try only use 400 steps."
   ]
  },
  {
   "cell_type": "code",
   "execution_count": null,
   "metadata": {},
   "outputs": [],
   "source": [
    "cat_image_list = []\n",
    "for i in range(0, 5):\n",
    "    images = image_pipe(num_inference_steps=400).images\n",
    "    cat_image_list.append(images[0])\n",
    "\n",
    "n_images = len(cat_image_list)\n",
    "\n",
    "# Create a figure with 1 row and `n_images` columns\n",
    "fig, axs = plt.subplots(1, n_images, figsize=(20, 5))  # Width 20, Height 5\n",
    "\n",
    "# Loop through the images and plot them in one row\n",
    "for idx, image in enumerate(cat_image_list):\n",
    "    axs[idx].imshow(image)  # Display the image\n",
    "    axs[idx].axis('off')    # Remove axis for cleaner display\n",
    "\n",
    "# Display the plots\n",
    "plt.tight_layout()\n",
    "plt.show()"
   ]
  },
  {
   "cell_type": "markdown",
   "metadata": {},
   "source": [
    "## What does the model do during different inference steps"
   ]
  },
  {
   "cell_type": "markdown",
   "metadata": {},
   "source": [
    "Replace the scheduler to see the model behavior"
   ]
  },
  {
   "cell_type": "code",
   "execution_count": null,
   "metadata": {},
   "outputs": [],
   "source": [
    "# Replace the default scheduler with DDIMScheduler (if you want DDIM behavior)\n",
    "scheduler = DDIMScheduler.from_pretrained(\"google/ddpm-cat-256\")\n",
    "num_inference_steps = 400\n",
    "scheduler.set_timesteps(num_inference_steps=num_inference_steps)\n",
    "image_pipe.scheduler = scheduler\n",
    "\n",
    "# Random starting point (batch of 4 images, 3 channels, 256x256 resolution)\n",
    "x = torch.randn(4, 3, 256, 256).to(device)  # Batch of 4, 3-channel 256x256 px images\n",
    "\n",
    "# Loop through the sampling timesteps\n",
    "for i, t in tqdm(enumerate(image_pipe.scheduler.timesteps)):\n",
    "    # Prepare model input\n",
    "    model_input = image_pipe.scheduler.scale_model_input(x, t)\n",
    "    # Get the prediction from the UNet (predict the noise)\n",
    "    with torch.no_grad():\n",
    "        noise_pred = image_pipe.unet(model_input, t)[\"sample\"]\n",
    "    # Calculate what the updated sample should look like using the scheduler\n",
    "    scheduler_output = image_pipe.scheduler.step(noise_pred, t, x)\n",
    "    # Update x for the next iteration\n",
    "    x = scheduler_output.prev_sample\n",
    "    # Occasionally display the intermediate results\n",
    "    if i % 100 == 0 or i == len(image_pipe.scheduler.timesteps) - 1:\n",
    "        fig, axs = plt.subplots(1, 2, figsize=(12, 5))\n",
    "        # Display the current `x` (partially denoised image)\n",
    "        grid = torchvision.utils.make_grid(x, nrow=4).permute(1, 2, 0)\n",
    "        axs[0].imshow(grid.cpu().clip(-1, 1) * 0.5 + 0.5)  # Clip and normalize image for display\n",
    "        axs[0].set_title(f\"Current x (step {i})\")\n",
    "        # Display the predicted \"clean\" image (denoised image)\n",
    "        pred_x0 = scheduler_output.pred_original_sample  # Original prediction from the scheduler\n",
    "        if pred_x0 is not None:  # Not all schedulers support pred_original_sample\n",
    "            grid = torchvision.utils.make_grid(pred_x0, nrow=4).permute(1, 2, 0)\n",
    "            axs[1].imshow(grid.cpu().clip(-1, 1) * 0.5 + 0.5)\n",
    "            axs[1].set_title(f\"Predicted denoised images (step {i})\")\n",
    "        else:\n",
    "            axs[1].set_title(f\"Predicted denoised images (unavailable)\")\n",
    "        plt.show()\n"
   ]
  },
  {
   "cell_type": "markdown",
   "metadata": {},
   "source": [
    "## Use 100 cat images in same breed to fine-tuning the model"
   ]
  },
  {
   "cell_type": "code",
   "execution_count": null,
   "metadata": {},
   "outputs": [],
   "source": [
    "dataset_name = \"timm/oxford-iiit-pet\"\n",
    "dataset = load_dataset(dataset_name, split=\"train\")\n",
    "\n",
    "# Choose the cat breed you want to focus on\n",
    "target_breed = \"british_shorthair\"  # Change this to any breed name in the dataset\n",
    "breed_names = dataset.features['label'].names  # Get the list of all breed names\n",
    "\n",
    "# Check if the breed exists in the dataset\n",
    "if target_breed not in breed_names:\n",
    "    raise ValueError(f\"Breed '{target_breed}' not found in dataset. Available breeds: {breed_names}\")\n",
    "\n",
    "# Get the breed index for the target breed\n",
    "breed_index = breed_names.index(target_breed)\n",
    "\n",
    "# Filter dataset to only include the specific cat breed\n",
    "filtered_dataset = dataset.filter(lambda example: example['label'] == breed_index)\n",
    "\n",
    "print(f\"Number of images for {target_breed}: {len(filtered_dataset)}\")\n",
    "\n",
    "\n",
    "\n",
    "image_size = 256  # @param\n",
    "batch_size = 4  # @param\n",
    "\n",
    "preprocess = transforms.Compose(\n",
    "    [\n",
    "        transforms.Resize((image_size, image_size)),\n",
    "        transforms.RandomHorizontalFlip(),\n",
    "        transforms.ToTensor(),\n",
    "        transforms.Normalize([0.5], [0.5]),\n",
    "    ]\n",
    ")\n",
    "\n",
    "\n",
    "def transform(examples):\n",
    "    images = [preprocess(image.convert(\"RGB\")) for image in examples[\"image\"]]\n",
    "    return {\"images\": images}\n",
    "\n",
    "\n",
    "filtered_dataset.set_transform(transform)\n",
    "\n",
    "train_dataloader = torch.utils.data.DataLoader(filtered_dataset, batch_size=batch_size, shuffle=True)\n",
    "\n",
    "print(\"Previewing batch:\")\n",
    "batch = next(iter(train_dataloader))\n",
    "grid = torchvision.utils.make_grid(batch[\"images\"], nrow=4)\n",
    "plt.imshow(grid.permute(1, 2, 0).cpu().clip(-1, 1) * 0.5 + 0.5)"
   ]
  },
  {
   "cell_type": "code",
   "execution_count": null,
   "metadata": {},
   "outputs": [],
   "source": [
    "num_epochs = 5  # @param\n",
    "lr = 5e-7  # 2param\n",
    "weight_decay = 1e-5\n",
    "grad_accumulation_steps = 4  # @param\n",
    "\n",
    "optimizer = torch.optim.AdamW(image_pipe.unet.parameters(), lr=lr, weight_decay=weight_decay)\n",
    "\n",
    "losses = []\n",
    "\n",
    "for epoch in range(num_epochs):\n",
    "    for step, batch in tqdm(enumerate(train_dataloader), total=len(train_dataloader)):\n",
    "        clean_images = batch[\"images\"].to(device)\n",
    "        # Sample noise to add to the images\n",
    "        noise = torch.randn(clean_images.shape).to(clean_images.device)\n",
    "        bs = clean_images.shape[0]\n",
    "\n",
    "        # Sample a random timestep for each image\n",
    "        timesteps = torch.randint(\n",
    "            0,\n",
    "            image_pipe.scheduler.num_train_timesteps,\n",
    "            (bs,),\n",
    "            device=clean_images.device,\n",
    "        ).long()\n",
    "\n",
    "        # Add noise to the clean images according to the noise magnitude at each timestep\n",
    "        # (this is the forward diffusion process)\n",
    "        noisy_images = image_pipe.scheduler.add_noise(clean_images, noise, timesteps)\n",
    "\n",
    "        # Get the model prediction for the noise\n",
    "        noise_pred = image_pipe.unet(noisy_images, timesteps, return_dict=False)[0]\n",
    "\n",
    "        # Compare the prediction with the actual noise:\n",
    "        loss = F.mse_loss(\n",
    "            noise_pred, noise\n",
    "        )  # NB - trying to predict noise (eps) not (noisy_ims-clean_ims) or just (clean_ims)\n",
    "\n",
    "        # Store for later plotting\n",
    "        losses.append(loss.item())\n",
    "\n",
    "        # Update the model parameters with the optimizer based on this loss\n",
    "        loss.backward(loss)\n",
    "\n",
    "        # Gradient accumulation:\n",
    "        if (step + 1) % grad_accumulation_steps == 0:\n",
    "            optimizer.step()\n",
    "            optimizer.zero_grad()\n",
    "\n",
    "    print(f\"Epoch {epoch} average loss: {sum(losses[-len(train_dataloader):])/len(train_dataloader)}\")\n",
    "\n",
    "# Plot the loss curve:\n",
    "plt.plot(losses)"
   ]
  },
  {
   "cell_type": "markdown",
   "metadata": {},
   "source": [
    "## Generate some cat images with our fine-tuned model"
   ]
  },
  {
   "cell_type": "code",
   "execution_count": null,
   "metadata": {},
   "outputs": [],
   "source": [
    "x = torch.randn(8, 3, 256, 256).to(device)  # Batch of 8\n",
    "for i, t in tqdm(enumerate(scheduler.timesteps)):\n",
    "    model_input = scheduler.scale_model_input(x, t)\n",
    "    with torch.no_grad():\n",
    "        noise_pred = image_pipe.unet(model_input, t)[\"sample\"]\n",
    "    x = scheduler.step(noise_pred, t, x).prev_sample\n",
    "grid = torchvision.utils.make_grid(x, nrow=4)\n",
    "plt.imshow(grid.permute(1, 2, 0).cpu().clip(-1, 1) * 0.5 + 0.5)"
   ]
  },
  {
   "cell_type": "markdown",
   "metadata": {},
   "source": [
    "### Save our model"
   ]
  },
  {
   "cell_type": "code",
   "execution_count": null,
   "metadata": {},
   "outputs": [],
   "source": [
    "# torch.save(image_pipe, target_breed+\"_FT.pth\")"
   ]
  }
 ],
 "metadata": {
  "kernelspec": {
   "display_name": "DiffusionModel",
   "language": "python",
   "name": "python3"
  },
  "language_info": {
   "codemirror_mode": {
    "name": "ipython",
    "version": 3
   },
   "file_extension": ".py",
   "mimetype": "text/x-python",
   "name": "python",
   "nbconvert_exporter": "python",
   "pygments_lexer": "ipython3",
   "version": "3.10.15"
  }
 },
 "nbformat": 4,
 "nbformat_minor": 2
}
